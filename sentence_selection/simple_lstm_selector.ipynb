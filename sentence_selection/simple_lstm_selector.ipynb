{
 "cells": [
  {
   "cell_type": "code",
   "execution_count": 45,
   "metadata": {},
   "outputs": [],
   "source": [
    "import logging\n",
    "import os\n",
    "import queue\n",
    "import random\n",
    "import re\n",
    "from args import get_setup_args\n",
    "import shutil\n",
    "import string\n",
    "#import setup\n",
    "import torch\n",
    "import torch.nn.functional as F\n",
    "import torch.utils.data as data\n",
    "from collections import Counter\n",
    "import numpy as np\n",
    "import ujson as json\n",
    "#import spacy\n",
    "import json\n",
    "\n",
    "from tqdm import tqdm_notebook as tqdm\n",
    "# NUM FEATURES = 768"
   ]
  },
  {
   "cell_type": "code",
   "execution_count": 89,
   "metadata": {},
   "outputs": [
    {
     "name": "stderr",
     "output_type": "stream",
     "text": [
      "The pre-trained model you are loading is a cased model but you have not set `do_lower_case` to False. We are setting `do_lower_case=False` for you but you may want to check this behavior.\n"
     ]
    }
   ],
   "source": [
    "from bert_sent_encoding import bert_sent_encoding\n",
    "\n",
    "\n",
    "# Import pre-trained Bert for sentence embeds\n",
    "bse = bert_sent_encoding(model_path='bert-base-cased')"
   ]
  },
  {
   "cell_type": "code",
   "execution_count": 91,
   "metadata": {},
   "outputs": [],
   "source": [
    "def load_data(dataset):\n",
    "    q_x = []\n",
    "    s_x = []\n",
    "    labels = []\n",
    "#     print(len(dataset.keys()))\n",
    "    for id in tqdm(dataset):\n",
    "        q = dataset[id][\"question\"]\n",
    "        s = dataset[id][\"sentence\"]\n",
    "        contains = dataset[id][\"contains_answer\"]\n",
    "        q_x.append(bse.get_vector(q,word_vector=False, layer=-1))\n",
    "        s_x.append(bse.get_vector(s,word_vector=False, layer=-1))\n",
    "        labels.append(contains)\n",
    "        \n",
    "    return q_x, s_x, labels"
   ]
  },
  {
   "cell_type": "code",
   "execution_count": 87,
   "metadata": {},
   "outputs": [],
   "source": [
    "sent_train_adv = sent_dev_adv = sent_test_adv = None\n",
    "with open('sentence_selection_data/train_sent_sel_adv.json') as outfile:\n",
    "    sent_train_adv = json.load(outfile)\n",
    "\n",
    "with open('sentence_selection_data/dev_sent_sel_adv.json') as outfile:\n",
    "    sent_dev_adv = json.load(outfile)\n",
    "    \n",
    "with open('sentence_selection_data/test_sent_sel_adv.json') as outfile:\n",
    "    sent_test_adv = json.load(outfile)"
   ]
  },
  {
   "cell_type": "code",
   "execution_count": null,
   "metadata": {},
   "outputs": [],
   "source": []
  },
  {
   "cell_type": "code",
   "execution_count": 92,
   "metadata": {},
   "outputs": [
    {
     "name": "stderr",
     "output_type": "stream",
     "text": [
      "/Users/derekmccreight/opt/miniconda3/envs/squad/lib/python3.6/site-packages/ipykernel_launcher.py:6: TqdmDeprecationWarning: This function will be removed in tqdm==5.0.0\n",
      "Please use `tqdm.notebook.tqdm` instead of `tqdm.tqdm_notebook`\n",
      "  \n"
     ]
    },
    {
     "data": {
      "application/vnd.jupyter.widget-view+json": {
       "model_id": "f511a2bc2bbe4eeb8eb92e078029a6d8",
       "version_major": 2,
       "version_minor": 0
      },
      "text/plain": [
       "HBox(children=(FloatProgress(value=0.0, max=12391.0), HTML(value='')))"
      ]
     },
     "metadata": {},
     "output_type": "display_data"
    },
    {
     "name": "stdout",
     "output_type": "stream",
     "text": [
      "\n"
     ]
    }
   ],
   "source": [
    "train_q, train_s, train_labels = load_data(sent_train_adv)\n",
    "#print(train_q)"
   ]
  },
  {
   "cell_type": "code",
   "execution_count": null,
   "metadata": {},
   "outputs": [],
   "source": []
  },
  {
   "cell_type": "code",
<<<<<<< HEAD
   "execution_count": null,
<<<<<<< HEAD
   "metadata": {},
   "outputs": [
    {
     "name": "stderr",
     "output_type": "stream",
     "text": [
      "/Users/derekmccreight/opt/miniconda3/envs/squad/lib/python3.6/site-packages/ipykernel_launcher.py:6: TqdmDeprecationWarning: This function will be removed in tqdm==5.0.0\n",
      "Please use `tqdm.notebook.tqdm` instead of `tqdm.tqdm_notebook`\n",
      "  \n"
     ]
    },
    {
     "data": {
      "application/vnd.jupyter.widget-view+json": {
       "model_id": "8f55e509e7104185886d86e08549e3dc",
       "version_major": 2,
       "version_minor": 0
      },
      "text/plain": [
       "HBox(children=(FloatProgress(value=0.0, max=661740.0), HTML(value='')))"
      ]
     },
     "metadata": {},
     "output_type": "display_data"
    }
   ],
   "source": [
    "train_q, train_s, train_labels = load_data(sent_train_squad)"
   ]
  },
  {
   "cell_type": "code",
=======
>>>>>>> parent of 46fa2ba... Made more things
   "execution_count": 93,
=======
>>>>>>> parent of 9e3a48b... Trying to upload .npz
   "metadata": {},
   "outputs": [],
   "source": [
    "# Save embeds with labels as .npz\n",
    "#First param is filename, following params are all arrays to save\n",
    "train_path = \"./sentence_selection_data/train_sent_sel_adv\" # DO we need the .npz as well?? prbably not\n",
    "np.savez(train_path, train_q, train_q=train_q, train_s=train_s, train_labels=train_labels)\n",
    "\n"
   ]
  },
  {
   "cell_type": "code",
   "execution_count": 14,
   "metadata": {},
   "outputs": [
    {
     "name": "stderr",
     "output_type": "stream",
     "text": [
      "/Users/derekmccreight/opt/miniconda3/envs/squad/lib/python3.6/site-packages/tensorflow/python/framework/dtypes.py:526: FutureWarning: Passing (type, 1) or '1type' as a synonym of type is deprecated; in a future version of numpy, it will be understood as (type, (1,)) / '(1,)type'.\n",
      "  _np_qint8 = np.dtype([(\"qint8\", np.int8, 1)])\n",
      "/Users/derekmccreight/opt/miniconda3/envs/squad/lib/python3.6/site-packages/tensorflow/python/framework/dtypes.py:527: FutureWarning: Passing (type, 1) or '1type' as a synonym of type is deprecated; in a future version of numpy, it will be understood as (type, (1,)) / '(1,)type'.\n",
      "  _np_quint8 = np.dtype([(\"quint8\", np.uint8, 1)])\n",
      "/Users/derekmccreight/opt/miniconda3/envs/squad/lib/python3.6/site-packages/tensorflow/python/framework/dtypes.py:528: FutureWarning: Passing (type, 1) or '1type' as a synonym of type is deprecated; in a future version of numpy, it will be understood as (type, (1,)) / '(1,)type'.\n",
      "  _np_qint16 = np.dtype([(\"qint16\", np.int16, 1)])\n",
      "/Users/derekmccreight/opt/miniconda3/envs/squad/lib/python3.6/site-packages/tensorflow/python/framework/dtypes.py:529: FutureWarning: Passing (type, 1) or '1type' as a synonym of type is deprecated; in a future version of numpy, it will be understood as (type, (1,)) / '(1,)type'.\n",
      "  _np_quint16 = np.dtype([(\"quint16\", np.uint16, 1)])\n",
      "/Users/derekmccreight/opt/miniconda3/envs/squad/lib/python3.6/site-packages/tensorflow/python/framework/dtypes.py:530: FutureWarning: Passing (type, 1) or '1type' as a synonym of type is deprecated; in a future version of numpy, it will be understood as (type, (1,)) / '(1,)type'.\n",
      "  _np_qint32 = np.dtype([(\"qint32\", np.int32, 1)])\n",
      "/Users/derekmccreight/opt/miniconda3/envs/squad/lib/python3.6/site-packages/tensorflow/python/framework/dtypes.py:535: FutureWarning: Passing (type, 1) or '1type' as a synonym of type is deprecated; in a future version of numpy, it will be understood as (type, (1,)) / '(1,)type'.\n",
      "  np_resource = np.dtype([(\"resource\", np.ubyte, 1)])\n"
     ]
    },
    {
     "ename": "NameError",
     "evalue": "name 'tf' is not defined",
     "output_type": "error",
     "traceback": [
      "\u001b[0;31m---------------------------------------------------------------------------\u001b[0m",
      "\u001b[0;31mNameError\u001b[0m                                 Traceback (most recent call last)",
      "\u001b[0;32m<ipython-input-14-bff0e64e1d30>\u001b[0m in \u001b[0;36m<module>\u001b[0;34m\u001b[0m\n\u001b[1;32m     20\u001b[0m \u001b[0;32mfrom\u001b[0m \u001b[0mtensorflow\u001b[0m\u001b[0;34m.\u001b[0m\u001b[0mkeras\u001b[0m \u001b[0;32mimport\u001b[0m \u001b[0mlayers\u001b[0m\u001b[0;34m\u001b[0m\u001b[0;34m\u001b[0m\u001b[0m\n\u001b[1;32m     21\u001b[0m \u001b[0;34m\u001b[0m\u001b[0m\n\u001b[0;32m---> 22\u001b[0;31m \u001b[0mqmodel\u001b[0m \u001b[0;34m=\u001b[0m \u001b[0mtf\u001b[0m\u001b[0;34m.\u001b[0m\u001b[0mkeras\u001b[0m\u001b[0;34m.\u001b[0m\u001b[0mSequential\u001b[0m\u001b[0;34m(\u001b[0m\u001b[0;34m)\u001b[0m\u001b[0;34m\u001b[0m\u001b[0;34m\u001b[0m\u001b[0m\n\u001b[0m\u001b[1;32m     23\u001b[0m \u001b[0mqmodel\u001b[0m\u001b[0;34m.\u001b[0m\u001b[0madd\u001b[0m\u001b[0;34m(\u001b[0m\u001b[0;34m)\u001b[0m\u001b[0;34m\u001b[0m\u001b[0;34m\u001b[0m\u001b[0m\n\u001b[1;32m     24\u001b[0m \u001b[0mqmodel\u001b[0m\u001b[0;34m.\u001b[0m\u001b[0madd\u001b[0m\u001b[0;34m(\u001b[0m\u001b[0mlayers\u001b[0m\u001b[0;34m.\u001b[0m\u001b[0mLSTM\u001b[0m\u001b[0;34m(\u001b[0m\u001b[0;36m64\u001b[0m\u001b[0;34m)\u001b[0m\u001b[0;34m)\u001b[0m\u001b[0;34m\u001b[0m\u001b[0;34m\u001b[0m\u001b[0m\n",
      "\u001b[0;31mNameError\u001b[0m: name 'tf' is not defined"
     ]
    }
   ],
   "source": [
    "# # CHANGE THIS LATER\n",
    "# def init_sequential_model(num_features):\n",
    "#     sequential_model = tf.keras.Sequential()\n",
    "#     sequential_model.add(tf.keras.layers.LSTM(num_features, return_sequences=True))\n",
    "#     sequential_model.add(tf.keras.layers.TimeDistributed(tf.keras.layers.Dense(1)))\n",
    "#     sequential_model.add(tf.keras.layers.Activation('sigmoid'))\n",
    "    \n",
    "# return sequential_model\n",
    "\n",
    "# def init_optimizer_and_loss():\n",
    "#     optimizer = None\n",
    "#     loss = None\n",
    "#     optimizer = tf.keras.optimizers.RMSprop(learning_rate=0.001, rho=0.9)\n",
    "#     loss = 'binary_crossentropy' \n",
    "    \n",
    "# return optimizer, loss\n",
    "\n",
    "# model.compile(optimizer=optimizer, loss=loss, metrics=['accuracy'])\n",
    "\n",
    "from tensorflow.keras import layers\n",
    "\n",
    "qmodel = tf.keras.Sequential()\n",
    "qmodel.add()\n",
    "qmodel.add(layers.LSTM(64))\n",
    "\n",
    "qmodel.add(layers.Dropout(0.5))\n",
    "qmodel.add(layers.Dense(1,activation='sigmoid'))\n",
    "qmodel.compile(optimizer='adam',loss='binary_crossentropy', metrics=['accuracy'])\n",
    "\n"
   ]
  },
  {
   "cell_type": "code",
   "execution_count": null,
   "metadata": {},
   "outputs": [],
   "source": [
    "from tensorflow.keras import layers\n",
    "\n",
    "amodel = tf.keras.Sequential()\n",
    "amodel.add()\n",
    "amodel.add(layers.LSTM(64))\n",
    "\n",
    "amodel.add(layers.Dropout(0.5))\n",
    "amodel.add(layers.Dense(1,activation='sigmoid'))\n",
    "amodel.compile(optimizer='adam',loss='binary_crossentropy', metrics=['accuracy'])"
   ]
  },
  {
   "cell_type": "code",
   "execution_count": null,
   "metadata": {},
   "outputs": [],
   "source": [
    "from tensorflow.keras.layers import Dropout, concatenate, LSTM, Dense, concatenate\n",
    "\n",
    "class QUA_Net(tf.keras.Model):\n",
    "    def __init__(self):\n",
    "        super(QUA_Net, self).__init__()\n",
    "        q_lstm = LSTM(64)\n",
    "        s_lstm = LSTM(64)\n",
    "        dense = Dense(1,activation='sigmoid')\n",
    "        \n",
    "    def call(self, inputs):\n",
    "        q = inputs[0]\n",
    "        s = inputs[1]\n",
    "        q_out = q_lstm(q)\n",
    "        s_out = s_lstm(s)\n",
    "        \n",
    "        merge = concatenate([q_out, s_out], axis = -1)\n",
    "        \n",
    "        out = dense(merge)\n",
    "        return out\n",
    "\n",
    "model = QUA_Net()"
   ]
  },
  {
   "cell_type": "code",
   "execution_count": null,
   "metadata": {},
   "outputs": [],
   "source": [
    "model.compile(optimizer='adam',loss='binary_crossentropy', metrics=['accuracy'])"
   ]
  },
  {
   "cell_type": "code",
   "execution_count": null,
   "metadata": {},
   "outputs": [],
   "source": [
    "EPOCHS = 30\n",
    "hist = model.fit(x=(train_q, train_s), y = train_labels, epochs = EPOCHS)"
   ]
  },
  {
   "cell_type": "code",
   "execution_count": null,
   "metadata": {},
   "outputs": [],
   "source": [
    "EPOCHS = 30\n",
    "hist = qmodel.fit(train_x,train_y,epochs=EPOCHS)"
   ]
  }
 ],
 "metadata": {
  "kernelspec": {
   "display_name": "Python 3",
   "language": "python",
   "name": "python3"
  },
  "language_info": {
   "codemirror_mode": {
    "name": "ipython",
    "version": 3
   },
   "file_extension": ".py",
   "mimetype": "text/x-python",
   "name": "python",
   "nbconvert_exporter": "python",
   "pygments_lexer": "ipython3",
   "version": "3.6.7"
  }
 },
 "nbformat": 4,
 "nbformat_minor": 4
}
