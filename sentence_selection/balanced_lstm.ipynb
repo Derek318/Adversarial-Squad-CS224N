{
 "cells": [
  {
   "cell_type": "code",
   "execution_count": null,
   "metadata": {},
   "outputs": [],
   "source": [
    "import logging\n",
    "import os\n",
    "import queue\n",
    "import random\n",
    "import re\n",
    "from args import get_setup_args\n",
    "import shutil\n",
    "import string\n",
    "#import setup\n",
    "import torch\n",
    "import torch.nn.functional as F\n",
    "import torch.utils.data as data\n",
    "from collections import Counter\n",
    "import numpy as np\n",
    "import ujson as json\n",
    "#import spacy\n",
    "import json\n",
    "import tensorflow as tf\n",
    "\n",
    "from tqdm import tqdm_notebook as tqdm"
   ]
  },
  {
   "cell_type": "code",
   "execution_count": null,
   "metadata": {},
   "outputs": [],
   "source": [
    "adversarial_data = np.load('./sentence_selection_data/train_sent_sel_adv.npz')\n",
    "train_q = adversarial_data['train_q']\n",
    "train_s = adversarial_data['train_s']\n",
    "train_labels = adversarial_data['train_labels']"
   ]
  },
  {
   "cell_type": "code",
   "execution_count": null,
   "metadata": {},
   "outputs": [],
   "source": [
    "from tensorflow.keras.layers import Dropout, concatenate, LSTM, Dense, concatenate\n",
    "\n",
    "class QUA_Net(tf.keras.Model):\n",
    "    def __init__(self):\n",
    "        super(QUA_Net, self).__init__()\n",
    "        self.q_lstm = LSTM(128)\n",
    "        self.s_lstm = LSTM(128)\n",
    "        self.dropout = Dropout(0.5)\n",
    "        self.dense = Dense(1,activation='sigmoid')\n",
    "        \n",
    "    def call(self, inputs):\n",
    "        q = inputs[0]\n",
    "        s = inputs[1]\n",
    "        q_out = self.q_lstm(q)\n",
    "        s_out = self.s_lstm(s)\n",
    "        \n",
    "        merge = concatenate([q_out, s_out], axis = -1)\n",
    "        drop = self.dropout(merge)\n",
    "        out = self.dense(drop)\n",
    "        return out\n",
    "\n",
    "model = QUA_Net()"
   ]
  },
  {
   "cell_type": "code",
   "execution_count": null,
   "metadata": {},
   "outputs": [],
   "source": [
    "model.compile(optimizer='adam',loss='binary_crossentropy', metrics=['accuracy'])"
   ]
  },
  {
   "cell_type": "code",
   "execution_count": null,
   "metadata": {},
   "outputs": [],
   "source": [
    "pos = np.where(train_labels == True)\n",
    "print(len(pos[0]))\n",
    "pos_idxs = pos[0]\n",
    "\n",
    "negs = np.where(train_labels == False)\n",
    "print(len(negs[0]))\n",
    "\n",
    "neg_idxs = np.random.choice(negs[0], len(pos[0]))\n",
    "print(len(neg_idxs), neg_idxs)\n",
    "print(train_q[0].shape)\n",
    "train_balanced_q = np.take(train_q, np.append(pos_idxs, neg_idxs), axis=0)\n",
    "train_balanced_s = np.take(train_s, np.append(pos_idxs, neg_idxs), axis=0)\n",
    "train_balanced_labels = np.take(train_labels, np.append(pos_idxs, neg_idxs), axis=0)\n",
    "print(train_balanced_q.shape)\n",
    "print(len(train_balanced_q), len(train_balanced_s), len(train_balanced_labels))"
   ]
  },
  {
   "cell_type": "code",
   "execution_count": null,
   "metadata": {},
   "outputs": [],
   "source": [
    "from sklearn.utils import class_weight\n",
    "EPOCHS = 5\n",
    "\n",
    "#weights = class_weight.compute_class_weight('balanced', np.unique(train_labels[:1000]), train_labels[:1000])\n",
    "hist = model.fit(x=[train_balanced_q[:,:,np.newaxis], train_balanced_s[:,:,np.newaxis]], y = train_balanced_labels, epochs = EPOCHS)"
   ]
  },
  {
   "cell_type": "code",
   "execution_count": null,
   "metadata": {},
   "outputs": [],
   "source": [
    "y = model.predict(x=[train_balanced_q[:,:,np.newaxis], train_balanced_s[:,:,np.newaxis]])\n",
    "print(np.where(y > 0.5))"
   ]
  },
  {
   "cell_type": "code",
   "execution_count": null,
   "metadata": {},
   "outputs": [],
   "source": [
    "print(len(np.where(y > 0.8)[0]))"
   ]
  }
 ],
 "metadata": {
  "kernelspec": {
   "display_name": "Python 3",
   "language": "python",
   "name": "python3"
  },
  "language_info": {
   "codemirror_mode": {
    "name": "ipython",
    "version": 3
   },
   "file_extension": ".py",
   "mimetype": "text/x-python",
   "name": "python",
   "nbconvert_exporter": "python",
   "pygments_lexer": "ipython3",
   "version": "3.7.6"
  }
 },
 "nbformat": 4,
 "nbformat_minor": 4
}
